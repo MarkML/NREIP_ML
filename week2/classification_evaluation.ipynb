{
  "cells": [
    {
      "cell_type": "code",
      "source": [
        "# common import abbreviations\n",
        "import numpy as np\n",
        "import matplotlib.pyplot as plt\n",
        "import matplotlib as mpl\n",
        "import seaborn as sns\n",
        "import pandas as pd\n",
        "import patsy\n",
        "\n",
        "import itertools as it\n",
        "import collections as co\n",
        "import functools as ft\n",
        "import os.path as osp\n",
        "\n",
        "import glob\n",
        "import textwrap\n",
        "\n",
        "# finally, a better idiom for warnings\n",
        "import sklearn, warnings\n",
        "warnings.filterwarnings('ignore',\n",
        "                        category=FutureWarning,\n",
        "                        module='sklearn')\n",
        "\n",
        "warnings.filterwarnings('ignore',\n",
        "                        category=FutureWarning,\n",
        "                        module='tensor*')\n",
        "\n",
        "# if the warnings get overwhelming,\n",
        "# you can re-disable with these original lines:\n",
        "#import warnings\n",
        "#warnings.filterwarnings(\"ignore\")\n",
        "\n",
        "# and for the really aggressive warnings:\n",
        "# some warnings are stubborn in the extreme, we don't want\n",
        "# them in the book\n",
        "#def warn(*args, **kwargs):  pass\n",
        "#warnings.warn = warn\n",
        "\n",
        "# config related\n",
        "np.set_printoptions(precision=4,\n",
        "                    suppress=True)\n",
        "pd.options.display.float_format = '{:20,.4f}'.format\n",
        "\n",
        "# there are good reasons *NOT* to do this in any real production code\n",
        "# for our purposes (writing a book with completely reproducable output)\n",
        "# this *is* what we want\n",
        "np.random.seed(42)\n",
        "\n",
        "# default is [6.4, 4.8]  (4:3)\n",
        "mpl.rcParams['figure.figsize'] = [4.0, 3.0]\n",
        "\n",
        "# turn on latex tables\n",
        "# pd.set_option('display.latex.repr', True)\n",
        "pd.set_option('styler.render.repr', 'latex')\n",
        "# monkey-patch for centering Out[] DataFrames\n",
        "def _repr_latex_(self):\n",
        "    return \"{\\centering\\n%s\\n\\medskip}\" % self.to_latex()\n",
        "pd.DataFrame._repr_latex_ = _repr_latex_\n",
        "\n",
        "# only used once\n",
        "markers = it.cycle(['+', '^', 'o', '_', '*', 'd', 'x', 's'])\n",
        "\n",
        "\n",
        "# handy helper for displaying stuff\n",
        "from IPython.display import Image\n",
        "\n",
        "#\n",
        "# sklearn's packaging is very java-esque.  :(\n",
        "#\n",
        "from sklearn import (cluster,\n",
        "                     datasets,\n",
        "                     decomposition,\n",
        "                     discriminant_analysis,\n",
        "                     dummy,\n",
        "                     ensemble,\n",
        "                     feature_selection as ftr_sel,\n",
        "                     linear_model,\n",
        "                     metrics,\n",
        "                     model_selection as skms,\n",
        "                     multiclass as skmulti,\n",
        "                     naive_bayes,\n",
        "                     neighbors,\n",
        "                     pipeline,\n",
        "                     preprocessing as skpre,\n",
        "                     svm,\n",
        "                     tree)\n",
        "\n",
        "\n",
        "# the punch line is to predict for a large grid of data points\n",
        "# http://scikit-learn.org/stable/auto_examples/neighbors/plot_classification.html\n",
        "def plot_boundary(ax, data, tgt, model, dims, grid_step = .01):\n",
        "    # grab a 2D view of the data and get limits\n",
        "    twoD = data[:, list(dims)]\n",
        "    min_x1, min_x2 = np.min(twoD, axis=0) + 2 * grid_step\n",
        "    max_x1, max_x2 = np.max(twoD, axis=0) - grid_step\n",
        "\n",
        "\n",
        "    # make a grid of points and predict at them\n",
        "    xs, ys = np.mgrid[min_x1:max_x1:grid_step,\n",
        "                      min_x2:max_x2:grid_step]\n",
        "    grid_points = np.c_[xs.ravel(), ys.ravel()]\n",
        "    # warning:  non-cv fit\n",
        "    preds = model.fit(twoD, tgt).predict(grid_points).reshape(xs.shape)\n",
        "\n",
        "    # plot the predictions at the grid points\n",
        "    ax.pcolormesh(xs,ys,preds,shading='auto',cmap=plt.cm.coolwarm)\n",
        "    ax.set_xlim(min_x1, max_x1)#-grid_step)\n",
        "    ax.set_ylim(min_x2, max_x2)#-grid_step)\n",
        "\n",
        "def plot_separator(model, xs, ys, label='', ax=None):\n",
        "    ''' xs, ys are 1-D b/c contour and decision_function\n",
        "        use incompatible packaging '''\n",
        "    if ax is None:\n",
        "        ax = plt.gca()\n",
        "\n",
        "    xy = np_cartesian_product(xs, ys)\n",
        "    z_shape = (xs.size, ys.size) # verus shape[0]?\n",
        "    zs = model.decision_function(xy).reshape(z_shape)\n",
        "\n",
        "    contours = ax.contour(xs, ys, zs,\n",
        "                          colors='k', levels=[0],\n",
        "                          linestyles=['-'])\n",
        "    fmt = {contours.levels[0] : label}\n",
        "    labels = ax.clabel(contours, fmt=fmt, inline_spacing=10)\n",
        "    [l.set_rotation(-90) for l in labels]\n",
        "\n",
        "def high_school_style(ax):\n",
        "    ' helper to define an axis to look like a typical school plot '\n",
        "    ax.spines['left'].set_position(('data', 0.0))\n",
        "    ax.spines['bottom'].set_position(('data', 0.0))\n",
        "    ax.spines['right'].set_visible(False)\n",
        "    ax.spines['top'].set_visible(False)\n",
        "\n",
        "    def make_ticks(lims):\n",
        "        lwr, upr = sorted(lims) #x/ylims can be inverted in mpl\n",
        "        lwr = np.round(lwr).astype('int') # can return np objs\n",
        "        upr = np.round(upr).astype('int')\n",
        "        if lwr * upr < 0:\n",
        "            return list(range(lwr, 0)) + list(range(1,upr+1))\n",
        "        else:\n",
        "            return list(range(lwr, upr+1))\n",
        "\n",
        "    import matplotlib.ticker as ticker\n",
        "    xticks = make_ticks(ax.get_xlim())\n",
        "    yticks = make_ticks(ax.get_ylim())\n",
        "\n",
        "    ax.xaxis.set_major_locator(ticker.FixedLocator(xticks))\n",
        "    ax.yaxis.set_major_locator(ticker.FixedLocator(yticks))\n",
        "\n",
        "    ax.set_aspect('equal')\n",
        "\n",
        "def get_model_name(model):\n",
        "    ' return name of model (class) as a string '\n",
        "    return str(model.__class__).split('.')[-1][:-2]\n",
        "\n",
        "def rdot(w,x):\n",
        "    ' apply np.dot on swapped args '\n",
        "    return np.dot(x,w)\n",
        "\n",
        "from sklearn.base import BaseEstimator, ClassifierMixin\n",
        "class DLDA(BaseEstimator, ClassifierMixin):\n",
        "    def __init__(self):\n",
        "        pass\n",
        "\n",
        "    def fit(self, train_ftrs, train_tgts):\n",
        "        self.uniq_tgts = np.unique(train_tgts)\n",
        "        self.means, self.priors = {}, {}\n",
        "\n",
        "        self.var  = train_ftrs.var(axis=0) # biased\n",
        "        for tgt in self.uniq_tgts:\n",
        "            cases = train_ftrs[train_tgts==tgt]\n",
        "            self.means[tgt]  = cases.mean(axis=0)\n",
        "            self.priors[tgt] = len(cases) / len(train_ftrs)\n",
        "        return self\n",
        "\n",
        "    def predict(self, test_ftrs):\n",
        "        disc = np.empty((test_ftrs.shape[0],\n",
        "                         self.uniq_tgts.shape[0]))\n",
        "        for tgt in self.uniq_tgts:\n",
        "            # technically, the maha_dist is sqrt() of this:\n",
        "            mahalanobis_dists = ((test_ftrs - self.means[tgt])**2 /\n",
        "                                 self.var)\n",
        "            disc[:,tgt] = (-np.sum(mahalanobis_dists, axis=1) +\n",
        "                           2 * np.log(self.priors[tgt]))\n",
        "        return np.argmax(disc,axis=1)\n",
        "\n",
        "\n",
        "def plot_lines_and_projections(axes, lines, points, xs):\n",
        "    data_xs, data_ys = points[:,0], points[:,1]\n",
        "    mean = np.mean(points, axis=0, keepdims=True)\n",
        "    centered_data = points - mean\n",
        "\n",
        "    for (m,b), ax in zip(lines, axes):\n",
        "        mb_line = m*xs + b\n",
        "        v_line = np.array([[1, 1/m if m else 0]])\n",
        "\n",
        "        ax.plot(data_xs, data_ys, 'r.') # uncentered\n",
        "        ax.plot(xs, mb_line, 'y')      # uncentered\n",
        "        ax.plot(*mean.T, 'ko')\n",
        "\n",
        "        # centered data makes the math easier!\n",
        "        # this is length on yellow line from red to blue\n",
        "        # distance from mean to projected point\n",
        "        y_lengths = centered_data.dot(v_line.T) / v_line.dot(v_line.T)\n",
        "        projs = y_lengths.dot(v_line)\n",
        "\n",
        "        # decenter (back to original coordinates)\n",
        "        final = projs + mean\n",
        "        ax.plot(*final.T, 'b.')\n",
        "\n",
        "        # connect points to projections\n",
        "        from matplotlib import collections as mc\n",
        "        proj_lines = mc.LineCollection(zip(points,final))\n",
        "        ax.add_collection(proj_lines)\n",
        "\n",
        "        hypots = zip(points, np.broadcast_to(mean, points.shape))\n",
        "        mean_lines = mc.LineCollection(hypots, linestyles='dashed')\n",
        "        ax.add_collection(mean_lines)\n",
        "\n",
        "# adding an orientation would be nice\n",
        "def sane_quiver(vs, ax=None, colors=None, origin=(0,0)):\n",
        "    '''plot row vectors from origin'''\n",
        "    vs = np.asarray(vs)\n",
        "    assert vs.ndim == 2 and vs.shape[1] == 2  # ensure column vectors\n",
        "    n = vs.shape[0]\n",
        "    if not ax: ax = plt.gca()\n",
        "\n",
        "    orig_x, orig_y = origin\n",
        "    xs = vs.T[0]  # column to rows, row[0] is xs\n",
        "    ys = vs.T[1]\n",
        "\n",
        "    # highly annoying:  quiver doesn't broadcast anymore (?)\n",
        "    orig_x = np.full_like(xs, orig_x)\n",
        "    orig_x = np.full_like(xs, orig_x)\n",
        "\n",
        "    props = {\"angles\":'xy', 'scale':1, 'scale_units':'xy'}\n",
        "    ax.quiver(orig_x, orig_y, xs, ys, color=colors, **props)\n",
        "\n",
        "    ax.set_aspect('equal')\n",
        "    # ax.set_axis_off()\n",
        "    _min, _max = min(vs.min(), 0) -1, max(0, vs.max())+1\n",
        "    ax.set_xlim(_min, _max)\n",
        "    ax.set_ylim(_min, _max)\n",
        "\n",
        "def reweight(examples, weights):\n",
        "    ''' convert weights to counts of examples using approximately two\n",
        "        significant digits of weights.\n",
        "\n",
        "        there are probably a 100 reasons not to do this like this.\n",
        "        top 2:\n",
        "          1.  boosting may require more precise values (or using randomization)\n",
        "              to keep things unbiased\n",
        "          2.  this *really* expands the dataset to a significant degree\n",
        "              (wastes resources)\n",
        "    '''\n",
        "    from math import gcd\n",
        "    from functools import reduce\n",
        "\n",
        "    # who needs repeated the least?\n",
        "    min_wgt = min(weights)\n",
        "    min_replicate = 1 / min_wgt # e.g., .25 -> 4\n",
        "\n",
        "    # compute naive duplication to 2 decimal places\n",
        "    counts = (min_replicate * weights * 100).astype(np.int64)\n",
        "\n",
        "    # trim duplication if we can\n",
        "    our_gcd = reduce(gcd, counts)\n",
        "    counts = counts // our_gcd\n",
        "\n",
        "    # repeat is picky about type\n",
        "    return np.repeat(examples, counts, axis=0)\n",
        "\n",
        "#examples = np.array([1, 10, 20])\n",
        "#weights  = np.array([.25, .33, 1-(.25+.33)])\n",
        "# print(pd.Series(reweight(examples, weights)))\n",
        "\n",
        "def enumerate_outer(outer_seq):\n",
        "    '''repeat the outer idx based on len of inner'''\n",
        "    return np.repeat(*zip(*enumerate(map(len, outer_seq))))\n",
        "\n",
        "def np_array_fromiter(itr, shape, dtype=np.float64):\n",
        "    ''' helper since np.fromiter only does 1D'''\n",
        "    arr = np.empty(shape, dtype=dtype)\n",
        "    for idx, itm in enumerate(itr):\n",
        "        arr[idx] = itm\n",
        "    return arr\n",
        "\n",
        "# how do you figure out arcane code?\n",
        "# work inside out, small inputs, pay attention to datatypes.\n",
        "# try outter and righter calls with simpler inputs\n",
        "# read docs *in conjunction with* experiments\n",
        "# [the docs rarely make sense - to me - in the abstract until I try\n",
        "#  examples while reading them]\n",
        "\n",
        "# the difference with a \"raw\" np.meshgrid call is we stack these up in\n",
        "# two columns of results (i.e., we make a table out of the pair arrays)\n",
        "def np_cartesian_product(*arrays):\n",
        "    ''' some numpy kung-fu to produce all\n",
        "        possible combinations of input arrays '''\n",
        "    ndim = len(arrays)\n",
        "    return np.stack(np.meshgrid(*arrays), axis=-1).reshape(-1, ndim)\n",
        "\n",
        "# replacement for tsplot is happiest with\n",
        "# \"tidy\" data\n",
        "# tidying the numpy array is a bit of a pain\n",
        "# xarray is designed to do this \"natively\" but\n",
        "# i don't want to introduce that dependency\n",
        "# [seems like there could be a better broadcasting\n",
        "#  solution to this]\n",
        "def sk_graph_to_tidy(train_test_scores, # y values\n",
        "                     eval_points,       # x values\n",
        "                     eval_label,        # x column name\n",
        "                     num_folds):        # could be inferred\n",
        "    train_scores, test_scores = train_test_scores\n",
        "    # humph, didn't know np_cartesian was order sensitive\n",
        "    labels = np_cartesian_product(eval_points,\n",
        "                                  [0,1], # surrogates for train/test\n",
        "                                  np.arange(num_folds))\n",
        "    score = np.concatenate([train_scores.flatten(),\n",
        "                            test_scores.flatten()], axis=0)\n",
        "\n",
        "    df = pd.DataFrame.from_records(labels)\n",
        "    df.columns = [eval_label, 'set', 'fold']\n",
        "    df.set = df.set.replace({0:'Train', 1:'Test'})\n",
        "    df['score'] = score\n",
        "    return df"
      ],
      "metadata": {
        "id": "5jiyf5Lvn0-k"
      },
      "execution_count": 1,
      "outputs": []
    },
    {
      "cell_type": "markdown",
      "source": [
        "## Binary Classification"
      ],
      "metadata": {
        "id": "eSF4Ore-plb9"
      }
    },
    {
      "cell_type": "code",
      "execution_count": 3,
      "metadata": {
        "id": "09xz0WZPnziv"
      },
      "outputs": [],
      "source": [
        "# setup\n",
        "\n",
        "%matplotlib inline"
      ]
    },
    {
      "cell_type": "code",
      "execution_count": 4,
      "metadata": {
        "colab": {
          "base_uri": "https://localhost:8080/",
          "height": 255
        },
        "id": "2s9gwNjOnziw",
        "outputId": "c9a6cc83-8f73-40bd-dd5d-bddc0c8ee2b8"
      },
      "outputs": [
        {
          "output_type": "display_data",
          "data": {
            "text/plain": [
              "       sepal length (cm)     sepal width (cm)    petal length (cm)  \\\n",
              "0                 5.1000               3.5000               1.4000   \n",
              "1                 4.9000               3.0000               1.4000   \n",
              "2                 4.7000               3.2000               1.3000   \n",
              "147               6.5000               3.0000               5.2000   \n",
              "148               6.2000               3.4000               5.4000   \n",
              "149               5.9000               3.0000               5.1000   \n",
              "\n",
              "        petal width (cm)  target  \n",
              "0                 0.2000       0  \n",
              "1                 0.2000       0  \n",
              "2                 0.2000       0  \n",
              "147               2.0000       2  \n",
              "148               2.3000       2  \n",
              "149               1.8000       2  "
            ],
            "text/html": [
              "\n",
              "  <div id=\"df-0c77ae84-9256-4943-b1ba-e19b1d38dab1\" class=\"colab-df-container\">\n",
              "    <div>\n",
              "<style scoped>\n",
              "    .dataframe tbody tr th:only-of-type {\n",
              "        vertical-align: middle;\n",
              "    }\n",
              "\n",
              "    .dataframe tbody tr th {\n",
              "        vertical-align: top;\n",
              "    }\n",
              "\n",
              "    .dataframe thead th {\n",
              "        text-align: right;\n",
              "    }\n",
              "</style>\n",
              "<table border=\"1\" class=\"dataframe\">\n",
              "  <thead>\n",
              "    <tr style=\"text-align: right;\">\n",
              "      <th></th>\n",
              "      <th>sepal length (cm)</th>\n",
              "      <th>sepal width (cm)</th>\n",
              "      <th>petal length (cm)</th>\n",
              "      <th>petal width (cm)</th>\n",
              "      <th>target</th>\n",
              "    </tr>\n",
              "  </thead>\n",
              "  <tbody>\n",
              "    <tr>\n",
              "      <th>0</th>\n",
              "      <td>5.1000</td>\n",
              "      <td>3.5000</td>\n",
              "      <td>1.4000</td>\n",
              "      <td>0.2000</td>\n",
              "      <td>0</td>\n",
              "    </tr>\n",
              "    <tr>\n",
              "      <th>1</th>\n",
              "      <td>4.9000</td>\n",
              "      <td>3.0000</td>\n",
              "      <td>1.4000</td>\n",
              "      <td>0.2000</td>\n",
              "      <td>0</td>\n",
              "    </tr>\n",
              "    <tr>\n",
              "      <th>2</th>\n",
              "      <td>4.7000</td>\n",
              "      <td>3.2000</td>\n",
              "      <td>1.3000</td>\n",
              "      <td>0.2000</td>\n",
              "      <td>0</td>\n",
              "    </tr>\n",
              "    <tr>\n",
              "      <th>147</th>\n",
              "      <td>6.5000</td>\n",
              "      <td>3.0000</td>\n",
              "      <td>5.2000</td>\n",
              "      <td>2.0000</td>\n",
              "      <td>2</td>\n",
              "    </tr>\n",
              "    <tr>\n",
              "      <th>148</th>\n",
              "      <td>6.2000</td>\n",
              "      <td>3.4000</td>\n",
              "      <td>5.4000</td>\n",
              "      <td>2.3000</td>\n",
              "      <td>2</td>\n",
              "    </tr>\n",
              "    <tr>\n",
              "      <th>149</th>\n",
              "      <td>5.9000</td>\n",
              "      <td>3.0000</td>\n",
              "      <td>5.1000</td>\n",
              "      <td>1.8000</td>\n",
              "      <td>2</td>\n",
              "    </tr>\n",
              "  </tbody>\n",
              "</table>\n",
              "</div>\n",
              "    <div class=\"colab-df-buttons\">\n",
              "\n",
              "  <div class=\"colab-df-container\">\n",
              "    <button class=\"colab-df-convert\" onclick=\"convertToInteractive('df-0c77ae84-9256-4943-b1ba-e19b1d38dab1')\"\n",
              "            title=\"Convert this dataframe to an interactive table.\"\n",
              "            style=\"display:none;\">\n",
              "\n",
              "  <svg xmlns=\"http://www.w3.org/2000/svg\" height=\"24px\" viewBox=\"0 -960 960 960\">\n",
              "    <path d=\"M120-120v-720h720v720H120Zm60-500h600v-160H180v160Zm220 220h160v-160H400v160Zm0 220h160v-160H400v160ZM180-400h160v-160H180v160Zm440 0h160v-160H620v160ZM180-180h160v-160H180v160Zm440 0h160v-160H620v160Z\"/>\n",
              "  </svg>\n",
              "    </button>\n",
              "\n",
              "  <style>\n",
              "    .colab-df-container {\n",
              "      display:flex;\n",
              "      gap: 12px;\n",
              "    }\n",
              "\n",
              "    .colab-df-convert {\n",
              "      background-color: #E8F0FE;\n",
              "      border: none;\n",
              "      border-radius: 50%;\n",
              "      cursor: pointer;\n",
              "      display: none;\n",
              "      fill: #1967D2;\n",
              "      height: 32px;\n",
              "      padding: 0 0 0 0;\n",
              "      width: 32px;\n",
              "    }\n",
              "\n",
              "    .colab-df-convert:hover {\n",
              "      background-color: #E2EBFA;\n",
              "      box-shadow: 0px 1px 2px rgba(60, 64, 67, 0.3), 0px 1px 3px 1px rgba(60, 64, 67, 0.15);\n",
              "      fill: #174EA6;\n",
              "    }\n",
              "\n",
              "    .colab-df-buttons div {\n",
              "      margin-bottom: 4px;\n",
              "    }\n",
              "\n",
              "    [theme=dark] .colab-df-convert {\n",
              "      background-color: #3B4455;\n",
              "      fill: #D2E3FC;\n",
              "    }\n",
              "\n",
              "    [theme=dark] .colab-df-convert:hover {\n",
              "      background-color: #434B5C;\n",
              "      box-shadow: 0px 1px 3px 1px rgba(0, 0, 0, 0.15);\n",
              "      filter: drop-shadow(0px 1px 2px rgba(0, 0, 0, 0.3));\n",
              "      fill: #FFFFFF;\n",
              "    }\n",
              "  </style>\n",
              "\n",
              "    <script>\n",
              "      const buttonEl =\n",
              "        document.querySelector('#df-0c77ae84-9256-4943-b1ba-e19b1d38dab1 button.colab-df-convert');\n",
              "      buttonEl.style.display =\n",
              "        google.colab.kernel.accessAllowed ? 'block' : 'none';\n",
              "\n",
              "      async function convertToInteractive(key) {\n",
              "        const element = document.querySelector('#df-0c77ae84-9256-4943-b1ba-e19b1d38dab1');\n",
              "        const dataTable =\n",
              "          await google.colab.kernel.invokeFunction('convertToInteractive',\n",
              "                                                    [key], {});\n",
              "        if (!dataTable) return;\n",
              "\n",
              "        const docLinkHtml = 'Like what you see? Visit the ' +\n",
              "          '<a target=\"_blank\" href=https://colab.research.google.com/notebooks/data_table.ipynb>data table notebook</a>'\n",
              "          + ' to learn more about interactive tables.';\n",
              "        element.innerHTML = '';\n",
              "        dataTable['output_type'] = 'display_data';\n",
              "        await google.colab.output.renderOutput(dataTable, element);\n",
              "        const docLink = document.createElement('div');\n",
              "        docLink.innerHTML = docLinkHtml;\n",
              "        element.appendChild(docLink);\n",
              "      }\n",
              "    </script>\n",
              "  </div>\n",
              "\n",
              "\n",
              "<div id=\"df-595b1128-0d11-480b-a1b7-03811b55ebd1\">\n",
              "  <button class=\"colab-df-quickchart\" onclick=\"quickchart('df-595b1128-0d11-480b-a1b7-03811b55ebd1')\"\n",
              "            title=\"Suggest charts\"\n",
              "            style=\"display:none;\">\n",
              "\n",
              "<svg xmlns=\"http://www.w3.org/2000/svg\" height=\"24px\"viewBox=\"0 0 24 24\"\n",
              "     width=\"24px\">\n",
              "    <g>\n",
              "        <path d=\"M19 3H5c-1.1 0-2 .9-2 2v14c0 1.1.9 2 2 2h14c1.1 0 2-.9 2-2V5c0-1.1-.9-2-2-2zM9 17H7v-7h2v7zm4 0h-2V7h2v10zm4 0h-2v-4h2v4z\"/>\n",
              "    </g>\n",
              "</svg>\n",
              "  </button>\n",
              "\n",
              "<style>\n",
              "  .colab-df-quickchart {\n",
              "      --bg-color: #E8F0FE;\n",
              "      --fill-color: #1967D2;\n",
              "      --hover-bg-color: #E2EBFA;\n",
              "      --hover-fill-color: #174EA6;\n",
              "      --disabled-fill-color: #AAA;\n",
              "      --disabled-bg-color: #DDD;\n",
              "  }\n",
              "\n",
              "  [theme=dark] .colab-df-quickchart {\n",
              "      --bg-color: #3B4455;\n",
              "      --fill-color: #D2E3FC;\n",
              "      --hover-bg-color: #434B5C;\n",
              "      --hover-fill-color: #FFFFFF;\n",
              "      --disabled-bg-color: #3B4455;\n",
              "      --disabled-fill-color: #666;\n",
              "  }\n",
              "\n",
              "  .colab-df-quickchart {\n",
              "    background-color: var(--bg-color);\n",
              "    border: none;\n",
              "    border-radius: 50%;\n",
              "    cursor: pointer;\n",
              "    display: none;\n",
              "    fill: var(--fill-color);\n",
              "    height: 32px;\n",
              "    padding: 0;\n",
              "    width: 32px;\n",
              "  }\n",
              "\n",
              "  .colab-df-quickchart:hover {\n",
              "    background-color: var(--hover-bg-color);\n",
              "    box-shadow: 0 1px 2px rgba(60, 64, 67, 0.3), 0 1px 3px 1px rgba(60, 64, 67, 0.15);\n",
              "    fill: var(--button-hover-fill-color);\n",
              "  }\n",
              "\n",
              "  .colab-df-quickchart-complete:disabled,\n",
              "  .colab-df-quickchart-complete:disabled:hover {\n",
              "    background-color: var(--disabled-bg-color);\n",
              "    fill: var(--disabled-fill-color);\n",
              "    box-shadow: none;\n",
              "  }\n",
              "\n",
              "  .colab-df-spinner {\n",
              "    border: 2px solid var(--fill-color);\n",
              "    border-color: transparent;\n",
              "    border-bottom-color: var(--fill-color);\n",
              "    animation:\n",
              "      spin 1s steps(1) infinite;\n",
              "  }\n",
              "\n",
              "  @keyframes spin {\n",
              "    0% {\n",
              "      border-color: transparent;\n",
              "      border-bottom-color: var(--fill-color);\n",
              "      border-left-color: var(--fill-color);\n",
              "    }\n",
              "    20% {\n",
              "      border-color: transparent;\n",
              "      border-left-color: var(--fill-color);\n",
              "      border-top-color: var(--fill-color);\n",
              "    }\n",
              "    30% {\n",
              "      border-color: transparent;\n",
              "      border-left-color: var(--fill-color);\n",
              "      border-top-color: var(--fill-color);\n",
              "      border-right-color: var(--fill-color);\n",
              "    }\n",
              "    40% {\n",
              "      border-color: transparent;\n",
              "      border-right-color: var(--fill-color);\n",
              "      border-top-color: var(--fill-color);\n",
              "    }\n",
              "    60% {\n",
              "      border-color: transparent;\n",
              "      border-right-color: var(--fill-color);\n",
              "    }\n",
              "    80% {\n",
              "      border-color: transparent;\n",
              "      border-right-color: var(--fill-color);\n",
              "      border-bottom-color: var(--fill-color);\n",
              "    }\n",
              "    90% {\n",
              "      border-color: transparent;\n",
              "      border-bottom-color: var(--fill-color);\n",
              "    }\n",
              "  }\n",
              "</style>\n",
              "\n",
              "  <script>\n",
              "    async function quickchart(key) {\n",
              "      const quickchartButtonEl =\n",
              "        document.querySelector('#' + key + ' button');\n",
              "      quickchartButtonEl.disabled = true;  // To prevent multiple clicks.\n",
              "      quickchartButtonEl.classList.add('colab-df-spinner');\n",
              "      try {\n",
              "        const charts = await google.colab.kernel.invokeFunction(\n",
              "            'suggestCharts', [key], {});\n",
              "      } catch (error) {\n",
              "        console.error('Error during call to suggestCharts:', error);\n",
              "      }\n",
              "      quickchartButtonEl.classList.remove('colab-df-spinner');\n",
              "      quickchartButtonEl.classList.add('colab-df-quickchart-complete');\n",
              "    }\n",
              "    (() => {\n",
              "      let quickchartButtonEl =\n",
              "        document.querySelector('#df-595b1128-0d11-480b-a1b7-03811b55ebd1 button');\n",
              "      quickchartButtonEl.style.display =\n",
              "        google.colab.kernel.accessAllowed ? 'block' : 'none';\n",
              "    })();\n",
              "  </script>\n",
              "</div>\n",
              "\n",
              "    </div>\n",
              "  </div>\n"
            ],
            "text/latex": "{\\centering\n\\begin{tabular}{lrrrrr}\n\\toprule\n & sepal length (cm) & sepal width (cm) & petal length (cm) & petal width (cm) & target \\\\\n\\midrule\n0 & 5.100000 & 3.500000 & 1.400000 & 0.200000 & 0 \\\\\n1 & 4.900000 & 3.000000 & 1.400000 & 0.200000 & 0 \\\\\n2 & 4.700000 & 3.200000 & 1.300000 & 0.200000 & 0 \\\\\n147 & 6.500000 & 3.000000 & 5.200000 & 2.000000 & 2 \\\\\n148 & 6.200000 & 3.400000 & 5.400000 & 2.300000 & 2 \\\\\n149 & 5.900000 & 3.000000 & 5.100000 & 1.800000 & 2 \\\\\n\\bottomrule\n\\end{tabular}\n\n\\medskip}",
            "application/vnd.google.colaboratory.intrinsic+json": {
              "type": "dataframe",
              "summary": "{\n  \"name\": \"                   iris_df\",\n  \"rows\": 6,\n  \"fields\": [\n    {\n      \"column\": \"sepal length (cm)\",\n      \"properties\": {\n        \"dtype\": \"number\",\n        \"std\": 0.7476630257007497,\n        \"min\": 4.7,\n        \"max\": 6.5,\n        \"num_unique_values\": 6,\n        \"samples\": [\n          5.1,\n          4.9,\n          5.9\n        ],\n        \"semantic_type\": \"\",\n        \"description\": \"\"\n      }\n    },\n    {\n      \"column\": \"sepal width (cm)\",\n      \"properties\": {\n        \"dtype\": \"number\",\n        \"std\": 0.22286019533929036,\n        \"min\": 3.0,\n        \"max\": 3.5,\n        \"num_unique_values\": 4,\n        \"samples\": [\n          3.0,\n          3.4,\n          3.5\n        ],\n        \"semantic_type\": \"\",\n        \"description\": \"\"\n      }\n    },\n    {\n      \"column\": \"petal length (cm)\",\n      \"properties\": {\n        \"dtype\": \"number\",\n        \"std\": 2.1203773249117717,\n        \"min\": 1.3,\n        \"max\": 5.4,\n        \"num_unique_values\": 5,\n        \"samples\": [\n          1.3,\n          5.1,\n          5.2\n        ],\n        \"semantic_type\": \"\",\n        \"description\": \"\"\n      }\n    },\n    {\n      \"column\": \"petal width (cm)\",\n      \"properties\": {\n        \"dtype\": \"number\",\n        \"std\": 1.0166939887039101,\n        \"min\": 0.2,\n        \"max\": 2.3,\n        \"num_unique_values\": 4,\n        \"samples\": [\n          2.0,\n          1.8,\n          0.2\n        ],\n        \"semantic_type\": \"\",\n        \"description\": \"\"\n      }\n    },\n    {\n      \"column\": \"target\",\n      \"properties\": {\n        \"dtype\": \"number\",\n        \"std\": 1,\n        \"min\": 0,\n        \"max\": 2,\n        \"num_unique_values\": 2,\n        \"samples\": [\n          2,\n          0\n        ],\n        \"semantic_type\": \"\",\n        \"description\": \"\"\n      }\n    }\n  ]\n}"
            }
          },
          "metadata": {}
        }
      ],
      "source": [
        "iris = datasets.load_iris()\n",
        "\n",
        "iris_df = pd.DataFrame(iris.data,\n",
        "                       columns=iris.feature_names)\n",
        "iris_df['target'] = iris.target\n",
        "display(pd.concat([iris_df.head(3),\n",
        "                   iris_df.tail(3)]))"
      ]
    },
    {
      "cell_type": "code",
      "execution_count": 5,
      "metadata": {
        "colab": {
          "base_uri": "https://localhost:8080/",
          "height": 610
        },
        "id": "9yxyIUpMnziw",
        "outputId": "8edad670-1b06-4c9a-bf7f-2f9a4671aa68"
      },
      "outputs": [
        {
          "output_type": "display_data",
          "data": {
            "text/plain": [
              "<Figure size 658.875x600 with 20 Axes>"
            ],
            "image/png": "[encoded data removed]"
          },
          "metadata": {}
        }
      ],
      "source": [
        "sns.pairplot(iris_df, hue='target', height=1.5);"
      ]
    },
    {
      "cell_type": "code",
      "execution_count": 6,
      "metadata": {
        "colab": {
          "base_uri": "https://localhost:8080/"
        },
        "id": "exNDEDHwnziw",
        "outputId": "fd54bfd7-d346-4ef3-9f74-05893fb1e4e0"
      },
      "outputs": [
        {
          "output_type": "stream",
          "name": "stdout",
          "text": [
            "targets: ['setosa' 'versicolor' 'virginica']\n",
            "setosa\n"
          ]
        }
      ],
      "source": [
        "print('targets: {}'.format(iris.target_names),\n",
        "      iris.target_names[0], sep=\"\\n\")"
      ]
    },
    {
      "cell_type": "code",
      "execution_count": 7,
      "metadata": {
        "colab": {
          "base_uri": "https://localhost:8080/"
        },
        "id": "94TY1pr1nzix",
        "outputId": "322fe4da-e2ac-4bad-c579-36d3d09c44c6"
      },
      "outputs": [
        {
          "output_type": "stream",
          "name": "stdout",
          "text": [
            "Train features shape: (112, 4)\n",
            "Test features shape: (38, 4)\n"
          ]
        }
      ],
      "source": [
        "# simple train/test split\n",
        "(iris_train_ftrs, iris_test_ftrs,\n",
        " iris_train_tgt,  iris_test_tgt) = skms.train_test_split(iris.data,\n",
        "                                                         iris.target,\n",
        "                                                         test_size=.25)\n",
        "print(\"Train features shape:\", iris_train_ftrs.shape)\n",
        "print(\"Test features shape:\",  iris_test_ftrs.shape)"
      ]
    },
    {
      "cell_type": "code",
      "execution_count": 8,
      "metadata": {
        "id": "VKciIFqqnzix"
      },
      "outputs": [],
      "source": [
        "answer_key = np.array([True, True, False, True])\n",
        "student_answers = np.array([True, True, True, True]) # desperate student!"
      ]
    },
    {
      "cell_type": "code",
      "execution_count": 9,
      "metadata": {
        "colab": {
          "base_uri": "https://localhost:8080/"
        },
        "id": "6yjYTvUenzix",
        "outputId": "7802c178-8848-482d-e5f7-db4d2237d24a"
      },
      "outputs": [
        {
          "output_type": "stream",
          "name": "stdout",
          "text": [
            "manual accuracy: 0.75\n"
          ]
        }
      ],
      "source": [
        "correct = answer_key == student_answers\n",
        "num_correct = correct.sum() # True == 1, add them up\n",
        "print(\"manual accuracy:\", num_correct / len(answer_key))"
      ]
    },
    {
      "cell_type": "code",
      "execution_count": 10,
      "metadata": {
        "colab": {
          "base_uri": "https://localhost:8080/"
        },
        "id": "nQHWzoERnzix",
        "outputId": "304de0df-4fe6-4a09-aae5-9a9a4ad0848d"
      },
      "outputs": [
        {
          "output_type": "stream",
          "name": "stdout",
          "text": [
            "sklearn accuracy: 0.75\n"
          ]
        }
      ],
      "source": [
        "print(\"sklearn accuracy:\",\n",
        "      metrics.accuracy_score(answer_key,\n",
        "                             student_answers))"
      ]
    },
    {
      "cell_type": "code",
      "execution_count": 11,
      "metadata": {
        "colab": {
          "base_uri": "https://localhost:8080/"
        },
        "id": "4eqEodmLnzix",
        "outputId": "a1fb2153-cc03-4743-fc4d-3bf4bcd3e6ae"
      },
      "outputs": [
        {
          "output_type": "stream",
          "name": "stdout",
          "text": [
            "3NN accuracy: 1.0\n"
          ]
        }
      ],
      "source": [
        "# default n_neighbors = 5\n",
        "knn   = neighbors.KNeighborsClassifier(n_neighbors=3)\n",
        "fit   = knn.fit(iris_train_ftrs, iris_train_tgt)\n",
        "preds = fit.predict(iris_test_ftrs)\n",
        "\n",
        "# evaluate our predictions against the held-back testing targets\n",
        "print(\"3NN accuracy:\",\n",
        "      metrics.accuracy_score(iris_test_tgt, preds))"
      ]
    },
    {
      "cell_type": "code",
      "execution_count": 12,
      "metadata": {
        "colab": {
          "base_uri": "https://localhost:8080/"
        },
        "id": "GpixELP8nzix",
        "outputId": "d4d87074-9f8b-4361-9212-ed7f67ef4f21"
      },
      "outputs": [
        {
          "output_type": "stream",
          "name": "stdout",
          "text": [
            "NB accuracy: 1.0\n"
          ]
        }
      ],
      "source": [
        "nb    = naive_bayes.GaussianNB()\n",
        "fit   = nb.fit(iris_train_ftrs, iris_train_tgt)\n",
        "preds = fit.predict(iris_test_ftrs)\n",
        "\n",
        "print(\"NB accuracy:\",\n",
        "      metrics.accuracy_score(iris_test_tgt, preds))"
      ]
    },
    {
      "cell_type": "code",
      "execution_count": 14,
      "metadata": {
        "colab": {
          "base_uri": "https://localhost:8080/"
        },
        "id": "jXY6G_fKnziy",
        "outputId": "2de0888d-a258-477a-fe50-57384c91ad03"
      },
      "outputs": [
        {
          "output_type": "stream",
          "name": "stdout",
          "text": [
            "kNN: 0.96\n",
            " NB: 0.81\n"
          ]
        }
      ],
      "source": [
        "# stand alone code\n",
        "from sklearn import (datasets, metrics,\n",
        "                     model_selection as skms,\n",
        "                     naive_bayes, neighbors)\n",
        "\n",
        "# we set random_state so the results are reproducable\n",
        "# otherwise, we get different training and testing sets\n",
        "# more details in Chapter 5\n",
        "iris = datasets.load_iris()\n",
        "(iris_train_ftrs, iris_test_ftrs,\n",
        " iris_train_tgt, iris_test_tgt) = skms.train_test_split(iris.data,\n",
        "                                                        iris.target,\n",
        "                                                        test_size=.90,\n",
        "                                                        random_state=42)\n",
        "\n",
        "models = {'kNN': neighbors.KNeighborsClassifier(n_neighbors=3),\n",
        "          'NB' : naive_bayes.GaussianNB()}\n",
        "\n",
        "for name, model in models.items():\n",
        "    fit = model.fit(iris_train_ftrs, iris_train_tgt)\n",
        "    predictions = fit.predict(iris_test_ftrs)\n",
        "\n",
        "    score = metrics.accuracy_score(iris_test_tgt, predictions)\n",
        "    print(\"{:>3s}: {:0.2f}\".format(name,score))"
      ]
    },
    {
      "cell_type": "markdown",
      "source": [
        "## Evaluating and Comparing Learners\n",
        "### 1. Split our data into separate training and testing datasets\n",
        "### 2. Learn on the training data\n",
        "### 3. Evaluate on the testing data"
      ],
      "metadata": {
        "id": "Iq0Xk2EJpWtO"
      }
    },
    {
      "cell_type": "code",
      "source": [
        "diabetes = datasets.load_diabetes()\n",
        "%matplotlib inline"
      ],
      "metadata": {
        "id": "U7GSdr00r4lZ"
      },
      "execution_count": 25,
      "outputs": []
    },
    {
      "cell_type": "code",
      "source": [
        "# Overfitting and Underfitting\n",
        "# Let's create synthetic data set\n",
        "N = 20\n",
        "ftr = np.linspace(-10, 10, num=N)                # ftr values\n",
        "tgt = 2*ftr**2 - 3 + np.random.uniform(-2, 2, N) # add some random noise to data\n",
        "\n",
        "(train_ftr, test_ftr,\n",
        " train_tgt, test_tgt) = skms.train_test_split(ftr, tgt, test_size=N//2)\n",
        "\n",
        "display(pd.DataFrame({\"ftr\":train_ftr,\n",
        "                      \"tgt\":train_tgt}).T)\n",
        ""
      ],
      "metadata": {
        "colab": {
          "base_uri": "https://localhost:8080/",
          "height": 132
        },
        "id": "s5_pmQ9kwFwN",
        "outputId": "f8b1bb79-c164-4506-bdeb-2baed1fd0f8e"
      },
      "execution_count": 27,
      "outputs": [
        {
          "output_type": "display_data",
          "data": {
            "text/plain": [
              "                       0                    1                    2  \\\n",
              "ftr               7.8947               1.5789               2.6316   \n",
              "tgt             120.9439               0.2678               9.6861   \n",
              "\n",
              "                       3                    4                    5  \\\n",
              "ftr              -2.6316              -1.5789              -8.9474   \n",
              "tgt              10.3412               1.5649             159.0321   \n",
              "\n",
              "                       6                    7                    8  \\\n",
              "ftr              -7.8947              -0.5263              -3.6842   \n",
              "tgt             119.9551              -1.0691              24.0879   \n",
              "\n",
              "                       9  \n",
              "ftr               5.7895  \n",
              "tgt              63.0527  "
            ],
            "text/html": [
              "\n",
              "  <div id=\"df-2645c007-3f1a-421b-8fd2-0610965abab1\" class=\"colab-df-container\">\n",
              "    <div>\n",
              "<style scoped>\n",
              "    .dataframe tbody tr th:only-of-type {\n",
              "        vertical-align: middle;\n",
              "    }\n",
              "\n",
              "    .dataframe tbody tr th {\n",
              "        vertical-align: top;\n",
              "    }\n",
              "\n",
              "    .dataframe thead th {\n",
              "        text-align: right;\n",
              "    }\n",
              "</style>\n",
              "<table border=\"1\" class=\"dataframe\">\n",
              "  <thead>\n",
              "    <tr style=\"text-align: right;\">\n",
              "      <th></th>\n",
              "      <th>0</th>\n",
              "      <th>1</th>\n",
              "      <th>2</th>\n",
              "      <th>3</th>\n",
              "      <th>4</th>\n",
              "      <th>5</th>\n",
              "      <th>6</th>\n",
              "      <th>7</th>\n",
              "      <th>8</th>\n",
              "      <th>9</th>\n",
              "    </tr>\n",
              "  </thead>\n",
              "  <tbody>\n",
              "    <tr>\n",
              "      <th>ftr</th>\n",
              "      <td>7.8947</td>\n",
              "      <td>1.5789</td>\n",
              "      <td>2.6316</td>\n",
              "      <td>-2.6316</td>\n",
              "      <td>-1.5789</td>\n",
              "      <td>-8.9474</td>\n",
              "      <td>-7.8947</td>\n",
              "      <td>-0.5263</td>\n",
              "      <td>-3.6842</td>\n",
              "      <td>5.7895</td>\n",
              "    </tr>\n",
              "    <tr>\n",
              "      <th>tgt</th>\n",
              "      <td>120.9439</td>\n",
              "      <td>0.2678</td>\n",
              "      <td>9.6861</td>\n",
              "      <td>10.3412</td>\n",
              "      <td>1.5649</td>\n",
              "      <td>159.0321</td>\n",
              "      <td>119.9551</td>\n",
              "      <td>-1.0691</td>\n",
              "      <td>24.0879</td>\n",
              "      <td>63.0527</td>\n",
              "    </tr>\n",
              "  </tbody>\n",
              "</table>\n",
              "</div>\n",
              "    <div class=\"colab-df-buttons\">\n",
              "\n",
              "  <div class=\"colab-df-container\">\n",
              "    <button class=\"colab-df-convert\" onclick=\"convertToInteractive('df-2645c007-3f1a-421b-8fd2-0610965abab1')\"\n",
              "            title=\"Convert this dataframe to an interactive table.\"\n",
              "            style=\"display:none;\">\n",
              "\n",
              "  <svg xmlns=\"http://www.w3.org/2000/svg\" height=\"24px\" viewBox=\"0 -960 960 960\">\n",
              "    <path d=\"M120-120v-720h720v720H120Zm60-500h600v-160H180v160Zm220 220h160v-160H400v160Zm0 220h160v-160H400v160ZM180-400h160v-160H180v160Zm440 0h160v-160H620v160ZM180-180h160v-160H180v160Zm440 0h160v-160H620v160Z\"/>\n",
              "  </svg>\n",
              "    </button>\n",
              "\n",
              "  <style>\n",
              "    .colab-df-container {\n",
              "      display:flex;\n",
              "      gap: 12px;\n",
              "    }\n",
              "\n",
              "    .colab-df-convert {\n",
              "      background-color: #E8F0FE;\n",
              "      border: none;\n",
              "      border-radius: 50%;\n",
              "      cursor: pointer;\n",
              "      display: none;\n",
              "      fill: #1967D2;\n",
              "      height: 32px;\n",
              "      padding: 0 0 0 0;\n",
              "      width: 32px;\n",
              "    }\n",
              "\n",
              "    .colab-df-convert:hover {\n",
              "      background-color: #E2EBFA;\n",
              "      box-shadow: 0px 1px 2px rgba(60, 64, 67, 0.3), 0px 1px 3px 1px rgba(60, 64, 67, 0.15);\n",
              "      fill: #174EA6;\n",
              "    }\n",
              "\n",
              "    .colab-df-buttons div {\n",
              "      margin-bottom: 4px;\n",
              "    }\n",
              "\n",
              "    [theme=dark] .colab-df-convert {\n",
              "      background-color: #3B4455;\n",
              "      fill: #D2E3FC;\n",
              "    }\n",
              "\n",
              "    [theme=dark] .colab-df-convert:hover {\n",
              "      background-color: #434B5C;\n",
              "      box-shadow: 0px 1px 3px 1px rgba(0, 0, 0, 0.15);\n",
              "      filter: drop-shadow(0px 1px 2px rgba(0, 0, 0, 0.3));\n",
              "      fill: #FFFFFF;\n",
              "    }\n",
              "  </style>\n",
              "\n",
              "    <script>\n",
              "      const buttonEl =\n",
              "        document.querySelector('#df-2645c007-3f1a-421b-8fd2-0610965abab1 button.colab-df-convert');\n",
              "      buttonEl.style.display =\n",
              "        google.colab.kernel.accessAllowed ? 'block' : 'none';\n",
              "\n",
              "      async function convertToInteractive(key) {\n",
              "        const element = document.querySelector('#df-2645c007-3f1a-421b-8fd2-0610965abab1');\n",
              "        const dataTable =\n",
              "          await google.colab.kernel.invokeFunction('convertToInteractive',\n",
              "                                                    [key], {});\n",
              "        if (!dataTable) return;\n",
              "\n",
              "        const docLinkHtml = 'Like what you see? Visit the ' +\n",
              "          '<a target=\"_blank\" href=https://colab.research.google.com/notebooks/data_table.ipynb>data table notebook</a>'\n",
              "          + ' to learn more about interactive tables.';\n",
              "        element.innerHTML = '';\n",
              "        dataTable['output_type'] = 'display_data';\n",
              "        await google.colab.output.renderOutput(dataTable, element);\n",
              "        const docLink = document.createElement('div');\n",
              "        docLink.innerHTML = docLinkHtml;\n",
              "        element.appendChild(docLink);\n",
              "      }\n",
              "    </script>\n",
              "  </div>\n",
              "\n",
              "\n",
              "<div id=\"df-3e31765b-b0a2-48fd-a1c7-aa74d41e3926\">\n",
              "  <button class=\"colab-df-quickchart\" onclick=\"quickchart('df-3e31765b-b0a2-48fd-a1c7-aa74d41e3926')\"\n",
              "            title=\"Suggest charts\"\n",
              "            style=\"display:none;\">\n",
              "\n",
              "<svg xmlns=\"http://www.w3.org/2000/svg\" height=\"24px\"viewBox=\"0 0 24 24\"\n",
              "     width=\"24px\">\n",
              "    <g>\n",
              "        <path d=\"M19 3H5c-1.1 0-2 .9-2 2v14c0 1.1.9 2 2 2h14c1.1 0 2-.9 2-2V5c0-1.1-.9-2-2-2zM9 17H7v-7h2v7zm4 0h-2V7h2v10zm4 0h-2v-4h2v4z\"/>\n",
              "    </g>\n",
              "</svg>\n",
              "  </button>\n",
              "\n",
              "<style>\n",
              "  .colab-df-quickchart {\n",
              "      --bg-color: #E8F0FE;\n",
              "      --fill-color: #1967D2;\n",
              "      --hover-bg-color: #E2EBFA;\n",
              "      --hover-fill-color: #174EA6;\n",
              "      --disabled-fill-color: #AAA;\n",
              "      --disabled-bg-color: #DDD;\n",
              "  }\n",
              "\n",
              "  [theme=dark] .colab-df-quickchart {\n",
              "      --bg-color: #3B4455;\n",
              "      --fill-color: #D2E3FC;\n",
              "      --hover-bg-color: #434B5C;\n",
              "      --hover-fill-color: #FFFFFF;\n",
              "      --disabled-bg-color: #3B4455;\n",
              "      --disabled-fill-color: #666;\n",
              "  }\n",
              "\n",
              "  .colab-df-quickchart {\n",
              "    background-color: var(--bg-color);\n",
              "    border: none;\n",
              "    border-radius: 50%;\n",
              "    cursor: pointer;\n",
              "    display: none;\n",
              "    fill: var(--fill-color);\n",
              "    height: 32px;\n",
              "    padding: 0;\n",
              "    width: 32px;\n",
              "  }\n",
              "\n",
              "  .colab-df-quickchart:hover {\n",
              "    background-color: var(--hover-bg-color);\n",
              "    box-shadow: 0 1px 2px rgba(60, 64, 67, 0.3), 0 1px 3px 1px rgba(60, 64, 67, 0.15);\n",
              "    fill: var(--button-hover-fill-color);\n",
              "  }\n",
              "\n",
              "  .colab-df-quickchart-complete:disabled,\n",
              "  .colab-df-quickchart-complete:disabled:hover {\n",
              "    background-color: var(--disabled-bg-color);\n",
              "    fill: var(--disabled-fill-color);\n",
              "    box-shadow: none;\n",
              "  }\n",
              "\n",
              "  .colab-df-spinner {\n",
              "    border: 2px solid var(--fill-color);\n",
              "    border-color: transparent;\n",
              "    border-bottom-color: var(--fill-color);\n",
              "    animation:\n",
              "      spin 1s steps(1) infinite;\n",
              "  }\n",
              "\n",
              "  @keyframes spin {\n",
              "    0% {\n",
              "      border-color: transparent;\n",
              "      border-bottom-color: var(--fill-color);\n",
              "      border-left-color: var(--fill-color);\n",
              "    }\n",
              "    20% {\n",
              "      border-color: transparent;\n",
              "      border-left-color: var(--fill-color);\n",
              "      border-top-color: var(--fill-color);\n",
              "    }\n",
              "    30% {\n",
              "      border-color: transparent;\n",
              "      border-left-color: var(--fill-color);\n",
              "      border-top-color: var(--fill-color);\n",
              "      border-right-color: var(--fill-color);\n",
              "    }\n",
              "    40% {\n",
              "      border-color: transparent;\n",
              "      border-right-color: var(--fill-color);\n",
              "      border-top-color: var(--fill-color);\n",
              "    }\n",
              "    60% {\n",
              "      border-color: transparent;\n",
              "      border-right-color: var(--fill-color);\n",
              "    }\n",
              "    80% {\n",
              "      border-color: transparent;\n",
              "      border-right-color: var(--fill-color);\n",
              "      border-bottom-color: var(--fill-color);\n",
              "    }\n",
              "    90% {\n",
              "      border-color: transparent;\n",
              "      border-bottom-color: var(--fill-color);\n",
              "    }\n",
              "  }\n",
              "</style>\n",
              "\n",
              "  <script>\n",
              "    async function quickchart(key) {\n",
              "      const quickchartButtonEl =\n",
              "        document.querySelector('#' + key + ' button');\n",
              "      quickchartButtonEl.disabled = true;  // To prevent multiple clicks.\n",
              "      quickchartButtonEl.classList.add('colab-df-spinner');\n",
              "      try {\n",
              "        const charts = await google.colab.kernel.invokeFunction(\n",
              "            'suggestCharts', [key], {});\n",
              "      } catch (error) {\n",
              "        console.error('Error during call to suggestCharts:', error);\n",
              "      }\n",
              "      quickchartButtonEl.classList.remove('colab-df-spinner');\n",
              "      quickchartButtonEl.classList.add('colab-df-quickchart-complete');\n",
              "    }\n",
              "    (() => {\n",
              "      let quickchartButtonEl =\n",
              "        document.querySelector('#df-3e31765b-b0a2-48fd-a1c7-aa74d41e3926 button');\n",
              "      quickchartButtonEl.style.display =\n",
              "        google.colab.kernel.accessAllowed ? 'block' : 'none';\n",
              "    })();\n",
              "  </script>\n",
              "</div>\n",
              "\n",
              "    </div>\n",
              "  </div>\n"
            ],
            "text/latex": "{\\centering\n\\begin{tabular}{lrrrrrrrrrr}\n\\toprule\n & 0 & 1 & 2 & 3 & 4 & 5 & 6 & 7 & 8 & 9 \\\\\n\\midrule\nftr & 7.894737 & 1.578947 & 2.631579 & -2.631579 & -1.578947 & -8.947368 & -7.894737 & -0.526316 & -3.684211 & 5.789474 \\\\\ntgt & 120.943943 & 0.267814 & 9.686090 & 10.341163 & 1.564915 & 159.032130 & 119.955125 & -1.069131 & 24.087934 & 63.052666 \\\\\n\\bottomrule\n\\end{tabular}\n\n\\medskip}",
            "application/vnd.google.colaboratory.intrinsic+json": {
              "type": "dataframe",
              "summary": "{\n  \"name\": \"                      \\\"tgt\\\":train_tgt})\",\n  \"rows\": 2,\n  \"fields\": [\n    {\n      \"column\": 0,\n      \"properties\": {\n        \"dtype\": \"number\",\n        \"std\": 79.937860048052,\n        \"min\": 7.894736842105264,\n        \"max\": 120.94394266914279,\n        \"num_unique_values\": 2,\n        \"samples\": [\n          120.94394266914279,\n          7.894736842105264\n        ],\n        \"semantic_type\": \"\",\n        \"description\": \"\"\n      }\n    },\n    {\n      \"column\": 1,\n      \"properties\": {\n        \"dtype\": \"number\",\n        \"std\": 0.9271112195637741,\n        \"min\": 0.2678141078857017,\n        \"max\": 1.5789473684210513,\n        \"num_unique_values\": 2,\n        \"samples\": [\n          0.2678141078857017,\n          1.5789473684210513\n        ],\n        \"semantic_type\": \"\",\n        \"description\": \"\"\n      }\n    },\n    {\n      \"column\": 2,\n      \"properties\": {\n        \"dtype\": \"number\",\n        \"std\": 4.988292874041388,\n        \"min\": 2.6315789473684212,\n        \"max\": 9.686090382926817,\n        \"num_unique_values\": 2,\n        \"samples\": [\n          9.686090382926817,\n          2.6315789473684212\n        ],\n        \"semantic_type\": \"\",\n        \"description\": \"\"\n      }\n    },\n    {\n      \"column\": 3,\n      \"properties\": {\n        \"dtype\": \"number\",\n        \"std\": 9.173113788020336,\n        \"min\": -2.6315789473684212,\n        \"max\": 10.341162980841574,\n        \"num_unique_values\": 2,\n        \"samples\": [\n          10.341162980841574,\n          -2.6315789473684212\n        ],\n        \"semantic_type\": \"\",\n        \"description\": \"\"\n      }\n    },\n    {\n      \"column\": 4,\n      \"properties\": {\n        \"dtype\": \"number\",\n        \"std\": 2.223046719245839,\n        \"min\": -1.578947368421053,\n        \"max\": 1.5649154517254265,\n        \"num_unique_values\": 2,\n        \"samples\": [\n          1.5649154517254265,\n          -1.578947368421053\n        ],\n        \"semantic_type\": \"\",\n        \"description\": \"\"\n      }\n    },\n    {\n      \"column\": 5,\n      \"properties\": {\n        \"dtype\": \"number\",\n        \"std\": 118.77944219269233,\n        \"min\": -8.947368421052632,\n        \"max\": 159.0321296589639,\n        \"num_unique_values\": 2,\n        \"samples\": [\n          159.0321296589639,\n          -8.947368421052632\n        ],\n        \"semantic_type\": \"\",\n        \"description\": \"\"\n      }\n    },\n    {\n      \"column\": 6,\n      \"properties\": {\n        \"dtype\": \"number\",\n        \"std\": 90.40350402507953,\n        \"min\": -7.894736842105264,\n        \"max\": 119.9551246362129,\n        \"num_unique_values\": 2,\n        \"samples\": [\n          119.9551246362129,\n          -7.894736842105264\n        ],\n        \"semantic_type\": \"\",\n        \"description\": \"\"\n      }\n    },\n    {\n      \"column\": 7,\n      \"properties\": {\n        \"dtype\": \"number\",\n        \"std\": 0.3838281866082461,\n        \"min\": -1.0691308165961377,\n        \"max\": -0.526315789473685,\n        \"num_unique_values\": 2,\n        \"samples\": [\n          -1.0691308165961377,\n          -0.526315789473685\n        ],\n        \"semantic_type\": \"\",\n        \"description\": \"\"\n      }\n    },\n    {\n      \"column\": 8,\n      \"properties\": {\n        \"dtype\": \"number\",\n        \"std\": 19.637871653027176,\n        \"min\": -3.6842105263157894,\n        \"max\": 24.087933901537394,\n        \"num_unique_values\": 2,\n        \"samples\": [\n          24.087933901537394,\n          -3.6842105263157894\n        ],\n        \"semantic_type\": \"\",\n        \"description\": \"\"\n      }\n    },\n    {\n      \"column\": 9,\n      \"properties\": {\n        \"dtype\": \"number\",\n        \"std\": 40.49119137021383,\n        \"min\": 5.789473684210526,\n        \"max\": 63.052665676611355,\n        \"num_unique_values\": 2,\n        \"samples\": [\n          63.052665676611355,\n          5.789473684210526\n        ],\n        \"semantic_type\": \"\",\n        \"description\": \"\"\n      }\n    }\n  ]\n}"
            }
          },
          "metadata": {}
        }
      ]
    },
    {
      "cell_type": "code",
      "source": [
        "plt.plot(train_ftr, train_tgt, 'bo')\n",
        "plt.plot(test_ftr,  np.zeros_like(test_ftr), 'r+');\n",
        "# the blue dots are training set\n",
        "# red plus '+' signs are the input feature values for test set\n",
        "# We need to figure out how high up we should take eac of those values"
      ],
      "metadata": {
        "colab": {
          "base_uri": "https://localhost:8080/",
          "height": 291
        },
        "id": "kgB2AEoytUkx",
        "outputId": "7f24908c-00a1-4fbb-8548-c37bd7571c28"
      },
      "execution_count": 29,
      "outputs": [
        {
          "output_type": "display_data",
          "data": {
            "text/plain": [
              "<Figure size 400x300 with 1 Axes>"
            ],
            "image/png": "[encoded data removed]"
          },
          "metadata": {}
        }
      ]
    },
    {
      "cell_type": "code",
      "source": [
        "# note: sklearn *really* wants 2D inputs (a table)\n",
        "# so we use rehape here.\n",
        "sk_model = linear_model.LinearRegression()\n",
        "sk_model.fit(train_ftr.reshape(-1,1), train_tgt)\n",
        "sk_preds = sk_model.predict(test_ftr.reshape(-1,1))\n",
        "sk_preds[:3]\n",
        "sk_preds"
      ],
      "metadata": {
        "colab": {
          "base_uri": "https://localhost:8080/"
        },
        "id": "UcslsLyNyTBw",
        "outputId": "5bb2aa08-b0ee-4d06-9555-1636b1cb7faa"
      },
      "execution_count": 31,
      "outputs": [
        {
          "output_type": "execute_result",
          "data": {
            "text/plain": [
              "array([47.1331, 28.8671, 19.7342, 62.3547, 77.5763, 38.0001, 65.399 ,\n",
              "       68.4433, 34.9558, 22.7785])"
            ]
          },
          "metadata": {},
          "execution_count": 31
        }
      ]
    },
    {
      "cell_type": "code",
      "source": [
        "#polyfit routine in Numpy  takes input and output values, features, and target and a degree of polynomial\n",
        "# it calculates the coefficients of the polynomials\n",
        "# np.poly1d turn those coefficients into a function\n",
        "model_one = np.poly1d(np.polyfit(train_ftr, train_tgt, 1))\n",
        "preds_one = model_one(test_ftr)\n",
        "print(preds_one[:3])"
      ],
      "metadata": {
        "colab": {
          "base_uri": "https://localhost:8080/"
        },
        "id": "WHM6JrkCy6cg",
        "outputId": "d3a44fc5-cfff-4d7e-ae70-dd14083c3110"
      },
      "execution_count": 32,
      "outputs": [
        {
          "output_type": "stream",
          "name": "stdout",
          "text": [
            "[47.1331 28.8671 19.7342]\n"
          ]
        }
      ]
    },
    {
      "cell_type": "code",
      "source": [
        "# the predictions come back the same\n",
        "print(\"all close?\", np.allclose(sk_preds, preds_one))\n"
      ],
      "metadata": {
        "colab": {
          "base_uri": "https://localhost:8080/"
        },
        "id": "6RS4hiTgyyX2",
        "outputId": "215b000d-d663-4036-c397-3475f090a5b7"
      },
      "execution_count": 34,
      "outputs": [
        {
          "output_type": "stream",
          "name": "stdout",
          "text": [
            "all close? True\n"
          ]
        }
      ]
    },
    {
      "cell_type": "code",
      "source": [
        "# and we can still use sklearn to evaluate it\n",
        "mse = metrics.mean_squared_error\n",
        "print(\"RMSE:\", np.sqrt(mse(test_tgt, preds_one)))"
      ],
      "metadata": {
        "colab": {
          "base_uri": "https://localhost:8080/"
        },
        "id": "HrHphGE1z61q",
        "outputId": "71d44f0b-43c4-4d8c-b44f-c70350c028a8"
      },
      "execution_count": 35,
      "outputs": [
        {
          "output_type": "stream",
          "name": "stdout",
          "text": [
            "RMSE: 84.14542457666431\n"
          ]
        }
      ]
    },
    {
      "cell_type": "code",
      "source": [
        "# What happens when we have curves?\n",
        "# fit predict evaluate a 2-D polynomial (a parabola)\n",
        "model_two = np.poly1d(np.polyfit(train_ftr, train_tgt, 2))\n",
        "preds_two = model_two(test_ftr)\n",
        "print(\"RMSE:\", np.sqrt(mse(test_tgt, preds_two)))\n",
        "\n"
      ],
      "metadata": {
        "colab": {
          "base_uri": "https://localhost:8080/"
        },
        "id": "Rw4xlMJ30RcV",
        "outputId": "839e1a7b-3c30-4a40-ab76-e3840a16efe6"
      },
      "execution_count": 37,
      "outputs": [
        {
          "output_type": "stream",
          "name": "stdout",
          "text": [
            "RMSE: 1.2909793886261653\n"
          ]
        }
      ]
    },
    {
      "cell_type": "markdown",
      "source": [
        "## Our Error is reduced by adding a 'bend' Can we add more 'bends' to reduce our error further?"
      ],
      "metadata": {
        "id": "PsblhWYa1DsU"
      }
    },
    {
      "cell_type": "code",
      "source": [
        "model_three = np.poly1d(np.polyfit(train_ftr, train_tgt, 9))\n",
        "preds_three = model_three(test_ftr)\n",
        "print(\"RMSE:\", np.sqrt(mse(test_tgt, preds_three)))"
      ],
      "metadata": {
        "colab": {
          "base_uri": "https://localhost:8080/"
        },
        "id": "CbXttZdJ0f48",
        "outputId": "70a841e3-c6da-40e4-a328-41e8a5613c49"
      },
      "execution_count": 38,
      "outputs": [
        {
          "output_type": "stream",
          "name": "stdout",
          "text": [
            "RMSE: 1635.7748053418059\n"
          ]
        }
      ]
    },
    {
      "cell_type": "markdown",
      "source": [
        "## our Error got worse. What happened?"
      ],
      "metadata": {
        "id": "PdmJJ_sF1WHf"
      }
    },
    {
      "cell_type": "code",
      "source": [
        "fig, axes = plt.subplots(1,2, figsize=(6,3), sharey=True)\n",
        "\n",
        "labels = ['line', 'parabola', 'nonic']\n",
        "models = [model_one, model_two, model_three]\n",
        "train = (train_ftr, train_tgt)\n",
        "test  = (test_ftr, test_tgt)\n",
        "\n",
        "for ax, (ftr, tgt) in zip(axes, [train, test]):\n",
        "    ax.plot(ftr, tgt, 'k+')\n",
        "    for m, lbl in zip(models, labels):\n",
        "        ftr = sorted(ftr)\n",
        "        ax.plot(ftr, m(ftr), '-', label=lbl)\n",
        "\n",
        "axes[1].set_ylim(-20, 200)\n",
        "axes[0].set_title(\"Train\")\n",
        "axes[1].set_title(\"Test\");\n",
        "axes[0].legend(loc='upper center');\n"
      ],
      "metadata": {
        "colab": {
          "base_uri": "https://localhost:8080/",
          "height": 314
        },
        "id": "r-pokGg11dfH",
        "outputId": "83567bee-dbdb-4e9f-d39a-cbfc9ab3ca75"
      },
      "execution_count": 39,
      "outputs": [
        {
          "output_type": "display_data",
          "data": {
            "text/plain": [
              "<Figure size 600x300 with 2 Axes>"
            ],
            "image/png": "[encoded data removed]"
          },
          "metadata": {}
        }
      ]
    },
    {
      "cell_type": "code",
      "source": [
        "results = []\n",
        "for complexity in [1,2,6,9]:\n",
        "    model = np.poly1d(np.polyfit(train_ftr, train_tgt, complexity))\n",
        "    train_error = np.sqrt(mse(train_tgt, model(train_ftr)))\n",
        "    test_error = np.sqrt(mse(test_tgt, model(test_ftr)))\n",
        "    results.append((complexity, train_error, test_error))\n",
        "\n",
        "columns = [\"Complexity\", \"Train Error\", \"Test Error\"]\n",
        "results_df = pd.DataFrame.from_records(results,\n",
        "                                       columns=columns,\n",
        "                                       index=\"Complexity\")\n",
        "\n",
        "results_df\n",
        ""
      ],
      "metadata": {
        "colab": {
          "base_uri": "https://localhost:8080/",
          "height": 206
        },
        "id": "uleCf3gr1CtH",
        "outputId": "19e92e8a-0668-47bc-cb21-0b5d5a7351c2"
      },
      "execution_count": 40,
      "outputs": [
        {
          "output_type": "execute_result",
          "data": {
            "text/plain": [
              "                    Train Error           Test Error\n",
              "Complexity                                          \n",
              "1                       55.7271              84.1454\n",
              "2                        1.0553               1.2910\n",
              "6                        0.5823               3.8889\n",
              "9                        0.0000           1,635.7748"
            ],
            "text/html": [
              "\n",
              "  <div id=\"df-57c8a24e-a934-42a3-80bd-74d9884c1efa\" class=\"colab-df-container\">\n",
              "    <div>\n",
              "<style scoped>\n",
              "    .dataframe tbody tr th:only-of-type {\n",
              "        vertical-align: middle;\n",
              "    }\n",
              "\n",
              "    .dataframe tbody tr th {\n",
              "        vertical-align: top;\n",
              "    }\n",
              "\n",
              "    .dataframe thead th {\n",
              "        text-align: right;\n",
              "    }\n",
              "</style>\n",
              "<table border=\"1\" class=\"dataframe\">\n",
              "  <thead>\n",
              "    <tr style=\"text-align: right;\">\n",
              "      <th></th>\n",
              "      <th>Train Error</th>\n",
              "      <th>Test Error</th>\n",
              "    </tr>\n",
              "    <tr>\n",
              "      <th>Complexity</th>\n",
              "      <th></th>\n",
              "      <th></th>\n",
              "    </tr>\n",
              "  </thead>\n",
              "  <tbody>\n",
              "    <tr>\n",
              "      <th>1</th>\n",
              "      <td>55.7271</td>\n",
              "      <td>84.1454</td>\n",
              "    </tr>\n",
              "    <tr>\n",
              "      <th>2</th>\n",
              "      <td>1.0553</td>\n",
              "      <td>1.2910</td>\n",
              "    </tr>\n",
              "    <tr>\n",
              "      <th>6</th>\n",
              "      <td>0.5823</td>\n",
              "      <td>3.8889</td>\n",
              "    </tr>\n",
              "    <tr>\n",
              "      <th>9</th>\n",
              "      <td>0.0000</td>\n",
              "      <td>1,635.7748</td>\n",
              "    </tr>\n",
              "  </tbody>\n",
              "</table>\n",
              "</div>\n",
              "    <div class=\"colab-df-buttons\">\n",
              "\n",
              "  <div class=\"colab-df-container\">\n",
              "    <button class=\"colab-df-convert\" onclick=\"convertToInteractive('df-57c8a24e-a934-42a3-80bd-74d9884c1efa')\"\n",
              "            title=\"Convert this dataframe to an interactive table.\"\n",
              "            style=\"display:none;\">\n",
              "\n",
              "  <svg xmlns=\"http://www.w3.org/2000/svg\" height=\"24px\" viewBox=\"0 -960 960 960\">\n",
              "    <path d=\"M120-120v-720h720v720H120Zm60-500h600v-160H180v160Zm220 220h160v-160H400v160Zm0 220h160v-160H400v160ZM180-400h160v-160H180v160Zm440 0h160v-160H620v160ZM180-180h160v-160H180v160Zm440 0h160v-160H620v160Z\"/>\n",
              "  </svg>\n",
              "    </button>\n",
              "\n",
              "  <style>\n",
              "    .colab-df-container {\n",
              "      display:flex;\n",
              "      gap: 12px;\n",
              "    }\n",
              "\n",
              "    .colab-df-convert {\n",
              "      background-color: #E8F0FE;\n",
              "      border: none;\n",
              "      border-radius: 50%;\n",
              "      cursor: pointer;\n",
              "      display: none;\n",
              "      fill: #1967D2;\n",
              "      height: 32px;\n",
              "      padding: 0 0 0 0;\n",
              "      width: 32px;\n",
              "    }\n",
              "\n",
              "    .colab-df-convert:hover {\n",
              "      background-color: #E2EBFA;\n",
              "      box-shadow: 0px 1px 2px rgba(60, 64, 67, 0.3), 0px 1px 3px 1px rgba(60, 64, 67, 0.15);\n",
              "      fill: #174EA6;\n",
              "    }\n",
              "\n",
              "    .colab-df-buttons div {\n",
              "      margin-bottom: 4px;\n",
              "    }\n",
              "\n",
              "    [theme=dark] .colab-df-convert {\n",
              "      background-color: #3B4455;\n",
              "      fill: #D2E3FC;\n",
              "    }\n",
              "\n",
              "    [theme=dark] .colab-df-convert:hover {\n",
              "      background-color: #434B5C;\n",
              "      box-shadow: 0px 1px 3px 1px rgba(0, 0, 0, 0.15);\n",
              "      filter: drop-shadow(0px 1px 2px rgba(0, 0, 0, 0.3));\n",
              "      fill: #FFFFFF;\n",
              "    }\n",
              "  </style>\n",
              "\n",
              "    <script>\n",
              "      const buttonEl =\n",
              "        document.querySelector('#df-57c8a24e-a934-42a3-80bd-74d9884c1efa button.colab-df-convert');\n",
              "      buttonEl.style.display =\n",
              "        google.colab.kernel.accessAllowed ? 'block' : 'none';\n",
              "\n",
              "      async function convertToInteractive(key) {\n",
              "        const element = document.querySelector('#df-57c8a24e-a934-42a3-80bd-74d9884c1efa');\n",
              "        const dataTable =\n",
              "          await google.colab.kernel.invokeFunction('convertToInteractive',\n",
              "                                                    [key], {});\n",
              "        if (!dataTable) return;\n",
              "\n",
              "        const docLinkHtml = 'Like what you see? Visit the ' +\n",
              "          '<a target=\"_blank\" href=https://colab.research.google.com/notebooks/data_table.ipynb>data table notebook</a>'\n",
              "          + ' to learn more about interactive tables.';\n",
              "        element.innerHTML = '';\n",
              "        dataTable['output_type'] = 'display_data';\n",
              "        await google.colab.output.renderOutput(dataTable, element);\n",
              "        const docLink = document.createElement('div');\n",
              "        docLink.innerHTML = docLinkHtml;\n",
              "        element.appendChild(docLink);\n",
              "      }\n",
              "    </script>\n",
              "  </div>\n",
              "\n",
              "\n",
              "<div id=\"df-a0f465f0-07ae-448d-a470-9ebf3392fbc9\">\n",
              "  <button class=\"colab-df-quickchart\" onclick=\"quickchart('df-a0f465f0-07ae-448d-a470-9ebf3392fbc9')\"\n",
              "            title=\"Suggest charts\"\n",
              "            style=\"display:none;\">\n",
              "\n",
              "<svg xmlns=\"http://www.w3.org/2000/svg\" height=\"24px\"viewBox=\"0 0 24 24\"\n",
              "     width=\"24px\">\n",
              "    <g>\n",
              "        <path d=\"M19 3H5c-1.1 0-2 .9-2 2v14c0 1.1.9 2 2 2h14c1.1 0 2-.9 2-2V5c0-1.1-.9-2-2-2zM9 17H7v-7h2v7zm4 0h-2V7h2v10zm4 0h-2v-4h2v4z\"/>\n",
              "    </g>\n",
              "</svg>\n",
              "  </button>\n",
              "\n",
              "<style>\n",
              "  .colab-df-quickchart {\n",
              "      --bg-color: #E8F0FE;\n",
              "      --fill-color: #1967D2;\n",
              "      --hover-bg-color: #E2EBFA;\n",
              "      --hover-fill-color: #174EA6;\n",
              "      --disabled-fill-color: #AAA;\n",
              "      --disabled-bg-color: #DDD;\n",
              "  }\n",
              "\n",
              "  [theme=dark] .colab-df-quickchart {\n",
              "      --bg-color: #3B4455;\n",
              "      --fill-color: #D2E3FC;\n",
              "      --hover-bg-color: #434B5C;\n",
              "      --hover-fill-color: #FFFFFF;\n",
              "      --disabled-bg-color: #3B4455;\n",
              "      --disabled-fill-color: #666;\n",
              "  }\n",
              "\n",
              "  .colab-df-quickchart {\n",
              "    background-color: var(--bg-color);\n",
              "    border: none;\n",
              "    border-radius: 50%;\n",
              "    cursor: pointer;\n",
              "    display: none;\n",
              "    fill: var(--fill-color);\n",
              "    height: 32px;\n",
              "    padding: 0;\n",
              "    width: 32px;\n",
              "  }\n",
              "\n",
              "  .colab-df-quickchart:hover {\n",
              "    background-color: var(--hover-bg-color);\n",
              "    box-shadow: 0 1px 2px rgba(60, 64, 67, 0.3), 0 1px 3px 1px rgba(60, 64, 67, 0.15);\n",
              "    fill: var(--button-hover-fill-color);\n",
              "  }\n",
              "\n",
              "  .colab-df-quickchart-complete:disabled,\n",
              "  .colab-df-quickchart-complete:disabled:hover {\n",
              "    background-color: var(--disabled-bg-color);\n",
              "    fill: var(--disabled-fill-color);\n",
              "    box-shadow: none;\n",
              "  }\n",
              "\n",
              "  .colab-df-spinner {\n",
              "    border: 2px solid var(--fill-color);\n",
              "    border-color: transparent;\n",
              "    border-bottom-color: var(--fill-color);\n",
              "    animation:\n",
              "      spin 1s steps(1) infinite;\n",
              "  }\n",
              "\n",
              "  @keyframes spin {\n",
              "    0% {\n",
              "      border-color: transparent;\n",
              "      border-bottom-color: var(--fill-color);\n",
              "      border-left-color: var(--fill-color);\n",
              "    }\n",
              "    20% {\n",
              "      border-color: transparent;\n",
              "      border-left-color: var(--fill-color);\n",
              "      border-top-color: var(--fill-color);\n",
              "    }\n",
              "    30% {\n",
              "      border-color: transparent;\n",
              "      border-left-color: var(--fill-color);\n",
              "      border-top-color: var(--fill-color);\n",
              "      border-right-color: var(--fill-color);\n",
              "    }\n",
              "    40% {\n",
              "      border-color: transparent;\n",
              "      border-right-color: var(--fill-color);\n",
              "      border-top-color: var(--fill-color);\n",
              "    }\n",
              "    60% {\n",
              "      border-color: transparent;\n",
              "      border-right-color: var(--fill-color);\n",
              "    }\n",
              "    80% {\n",
              "      border-color: transparent;\n",
              "      border-right-color: var(--fill-color);\n",
              "      border-bottom-color: var(--fill-color);\n",
              "    }\n",
              "    90% {\n",
              "      border-color: transparent;\n",
              "      border-bottom-color: var(--fill-color);\n",
              "    }\n",
              "  }\n",
              "</style>\n",
              "\n",
              "  <script>\n",
              "    async function quickchart(key) {\n",
              "      const quickchartButtonEl =\n",
              "        document.querySelector('#' + key + ' button');\n",
              "      quickchartButtonEl.disabled = true;  // To prevent multiple clicks.\n",
              "      quickchartButtonEl.classList.add('colab-df-spinner');\n",
              "      try {\n",
              "        const charts = await google.colab.kernel.invokeFunction(\n",
              "            'suggestCharts', [key], {});\n",
              "      } catch (error) {\n",
              "        console.error('Error during call to suggestCharts:', error);\n",
              "      }\n",
              "      quickchartButtonEl.classList.remove('colab-df-spinner');\n",
              "      quickchartButtonEl.classList.add('colab-df-quickchart-complete');\n",
              "    }\n",
              "    (() => {\n",
              "      let quickchartButtonEl =\n",
              "        document.querySelector('#df-a0f465f0-07ae-448d-a470-9ebf3392fbc9 button');\n",
              "      quickchartButtonEl.style.display =\n",
              "        google.colab.kernel.accessAllowed ? 'block' : 'none';\n",
              "    })();\n",
              "  </script>\n",
              "</div>\n",
              "\n",
              "  <div id=\"id_b873582a-1a29-4d47-a887-c930012a802e\">\n",
              "    <style>\n",
              "      .colab-df-generate {\n",
              "        background-color: #E8F0FE;\n",
              "        border: none;\n",
              "        border-radius: 50%;\n",
              "        cursor: pointer;\n",
              "        display: none;\n",
              "        fill: #1967D2;\n",
              "        height: 32px;\n",
              "        padding: 0 0 0 0;\n",
              "        width: 32px;\n",
              "      }\n",
              "\n",
              "      .colab-df-generate:hover {\n",
              "        background-color: #E2EBFA;\n",
              "        box-shadow: 0px 1px 2px rgba(60, 64, 67, 0.3), 0px 1px 3px 1px rgba(60, 64, 67, 0.15);\n",
              "        fill: #174EA6;\n",
              "      }\n",
              "\n",
              "      [theme=dark] .colab-df-generate {\n",
              "        background-color: #3B4455;\n",
              "        fill: #D2E3FC;\n",
              "      }\n",
              "\n",
              "      [theme=dark] .colab-df-generate:hover {\n",
              "        background-color: #434B5C;\n",
              "        box-shadow: 0px 1px 3px 1px rgba(0, 0, 0, 0.15);\n",
              "        filter: drop-shadow(0px 1px 2px rgba(0, 0, 0, 0.3));\n",
              "        fill: #FFFFFF;\n",
              "      }\n",
              "    </style>\n",
              "    <button class=\"colab-df-generate\" onclick=\"generateWithVariable('results_df')\"\n",
              "            title=\"Generate code using this dataframe.\"\n",
              "            style=\"display:none;\">\n",
              "\n",
              "  <svg xmlns=\"http://www.w3.org/2000/svg\" height=\"24px\"viewBox=\"0 0 24 24\"\n",
              "       width=\"24px\">\n",
              "    <path d=\"M7,19H8.4L18.45,9,17,7.55,7,17.6ZM5,21V16.75L18.45,3.32a2,2,0,0,1,2.83,0l1.4,1.43a1.91,1.91,0,0,1,.58,1.4,1.91,1.91,0,0,1-.58,1.4L9.25,21ZM18.45,9,17,7.55Zm-12,3A5.31,5.31,0,0,0,4.9,8.1,5.31,5.31,0,0,0,1,6.5,5.31,5.31,0,0,0,4.9,4.9,5.31,5.31,0,0,0,6.5,1,5.31,5.31,0,0,0,8.1,4.9,5.31,5.31,0,0,0,12,6.5,5.46,5.46,0,0,0,6.5,12Z\"/>\n",
              "  </svg>\n",
              "    </button>\n",
              "    <script>\n",
              "      (() => {\n",
              "      const buttonEl =\n",
              "        document.querySelector('#id_b873582a-1a29-4d47-a887-c930012a802e button.colab-df-generate');\n",
              "      buttonEl.style.display =\n",
              "        google.colab.kernel.accessAllowed ? 'block' : 'none';\n",
              "\n",
              "      buttonEl.onclick = () => {\n",
              "        google.colab.notebook.generateWithVariable('results_df');\n",
              "      }\n",
              "      })();\n",
              "    </script>\n",
              "  </div>\n",
              "\n",
              "    </div>\n",
              "  </div>\n"
            ],
            "text/latex": "{\\centering\n\\begin{tabular}{lrr}\n\\toprule\n & Train Error & Test Error \\\\\nComplexity &  &  \\\\\n\\midrule\n1 & 55.727139 & 84.145425 \\\\\n2 & 1.055304 & 1.290979 \\\\\n6 & 0.582260 & 3.888851 \\\\\n9 & 0.000000 & 1635.774805 \\\\\n\\bottomrule\n\\end{tabular}\n\n\\medskip}",
            "application/vnd.google.colaboratory.intrinsic+json": {
              "type": "dataframe",
              "variable_name": "results_df",
              "summary": "{\n  \"name\": \"results_df\",\n  \"rows\": 4,\n  \"fields\": [\n    {\n      \"column\": \"Complexity\",\n      \"properties\": {\n        \"dtype\": \"number\",\n        \"std\": 3,\n        \"min\": 1,\n        \"max\": 9,\n        \"num_unique_values\": 4,\n        \"samples\": [\n          2,\n          9,\n          1\n        ],\n        \"semantic_type\": \"\",\n        \"description\": \"\"\n      }\n    },\n    {\n      \"column\": \"Train Error\",\n      \"properties\": {\n        \"dtype\": \"number\",\n        \"std\": 27.594017872499936,\n        \"min\": 2.4153049094768197e-12,\n        \"max\": 55.72713948664345,\n        \"num_unique_values\": 4,\n        \"samples\": [\n          1.0553036278360366,\n          2.4153049094768197e-12,\n          55.72713948664345\n        ],\n        \"semantic_type\": \"\",\n        \"description\": \"\"\n      }\n    },\n    {\n      \"column\": \"Test Error\",\n      \"properties\": {\n        \"dtype\": \"number\",\n        \"std\": 803.9203735841104,\n        \"min\": 1.2909793886261653,\n        \"max\": 1635.7748053418059,\n        \"num_unique_values\": 4,\n        \"samples\": [\n          1.2909793886261653,\n          1635.7748053418059,\n          84.14542457666431\n        ],\n        \"semantic_type\": \"\",\n        \"description\": \"\"\n      }\n    }\n  ]\n}"
            }
          },
          "metadata": {},
          "execution_count": 40
        }
      ]
    },
    {
      "cell_type": "markdown",
      "source": [
        "##Let's review what happenened with models:\n",
        "### Model One (Complexity 1, straight line) lacks ability to learn complexity. It is too biased to flatness. We call this \"underfitting\".\n",
        "### Model Two (Complexity 9, wiggly 9-degree polynomial). It does well on training data but it memorized the 'noise' (randomness) in the data. It fails miserably during testing because it is \"overfitting\"\n",
        "### Model Three (Complexity 2, parabola). is the best fit of the three models."
      ],
      "metadata": {
        "id": "-KDZE2OW2nOr"
      }
    },
    {
      "cell_type": "code",
      "source": [
        "results_df.plot()"
      ],
      "metadata": {
        "colab": {
          "base_uri": "https://localhost:8080/",
          "height": 328
        },
        "id": "GSk9dQGT3avf",
        "outputId": "3cbca627-9509-4d4b-9d58-73c78c0b20f6"
      },
      "execution_count": 41,
      "outputs": [
        {
          "output_type": "execute_result",
          "data": {
            "text/plain": [
              "<Axes: xlabel='Complexity'>"
            ]
          },
          "metadata": {},
          "execution_count": 41
        },
        {
          "output_type": "display_data",
          "data": {
            "text/plain": [
              "<Figure size 400x300 with 1 Axes>"
            ],
            "image/png": "[encoded data removed]"
          },
          "metadata": {}
        }
      ]
    },
    {
      "cell_type": "markdown",
      "source": [
        "## Key takeaway is that we can increase the complexity of the model but it comes with a cost.  We can make the training error very small but when it comes to real world testing it is likely to achieve worse results."
      ],
      "metadata": {
        "id": "oJ2cT-s134Pz"
      }
    },
    {
      "cell_type": "markdown",
      "source": [
        "## From Errors to Costs"
      ],
      "metadata": {
        "id": "cWO1QPqo48J5"
      }
    },
    {
      "cell_type": "code",
      "source": [
        "# loss function that quantifies what happens  when our model is wrong on a single example\n",
        "# training loss is the sum of the loses on each example\n",
        "def training_loss(loss, model, training_data):\n",
        "    ' total training_loss on train_data with model under loss'\n",
        "    return sum(loss(model.predict(x.reshape(1,-1)), y)\n",
        "                                 for x,y in training_data)\n",
        "def squared_error(prediction, actual):\n",
        "    ' squared error on a single example '\n",
        "    return (prediction-actual)**2\n",
        "\n",
        "# could be used like:\n",
        "# my_training_loss = training_loss(squared_error, model, training_data)"
      ],
      "metadata": {
        "id": "PgBJ_NlP5LQC"
      },
      "execution_count": 42,
      "outputs": []
    },
    {
      "cell_type": "code",
      "source": [
        "# Let's apply loss function\n",
        "knn   = neighbors.KNeighborsRegressor(n_neighbors=3)\n",
        "fit   = knn.fit(diabetes.data, diabetes.target)\n",
        "\n",
        "training_data = zip(diabetes.data, diabetes.target)\n",
        "\n",
        "my_training_loss = training_loss(squared_error,\n",
        "                                 knn,\n",
        "                                 training_data)\n",
        "print(my_training_loss)\n",
        "\n"
      ],
      "metadata": {
        "colab": {
          "base_uri": "https://localhost:8080/"
        },
        "id": "vlHmOpGv6MpX",
        "outputId": "a2f5ef37-783f-4c77-9ed6-6df8a5f87bdc"
      },
      "execution_count": 43,
      "outputs": [
        {
          "output_type": "stream",
          "name": "stdout",
          "text": [
            "[863792.3333]\n"
          ]
        }
      ]
    },
    {
      "cell_type": "markdown",
      "source": [
        "## Cost = training loss + complexity\n",
        "###  The total cost  we pay to use a model depends on 1) how well it does and 2) how complex it is\n",
        "### complexity can be computed using techniques: [regularization, smoothing, peanlization, shrinkage]"
      ],
      "metadata": {
        "id": "jB0wkrHi6pBx"
      }
    },
    {
      "cell_type": "code",
      "source": [],
      "metadata": {
        "id": "2OJ6xiKn6m_J"
      },
      "execution_count": null,
      "outputs": []
    }
  ],
  "metadata": {
    "colab": {
      "provenance": []
    },
    "language_info": {
      "name": "python"
    },
    "kernelspec": {
      "name": "python3",
      "display_name": "Python 3"
    }
  },
  "nbformat": 4,
  "nbformat_minor": 0
}